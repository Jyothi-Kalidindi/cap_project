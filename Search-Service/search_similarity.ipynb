{
 "cells": [
  {
   "cell_type": "code",
   "execution_count": null,
   "id": "96b693c0",
   "metadata": {},
   "outputs": [],
   "source": []
  },
  {
   "cell_type": "code",
   "execution_count": null,
   "id": "07f952d1",
   "metadata": {},
   "outputs": [],
   "source": []
  },
  {
   "cell_type": "code",
   "execution_count": 2,
   "id": "f7b7dc9d",
   "metadata": {},
   "outputs": [
    {
     "name": "stdout",
     "output_type": "stream",
     "text": [
      "Requirement already satisfied: faiss-cpu in c:\\programdata\\anaconda3\\lib\\site-packages (1.7.2)\n"
     ]
    }
   ],
   "source": [
    "#!pip install faiss-cpu\n",
    "#!pip install -U sentence-transformers"
   ]
  },
  {
   "cell_type": "code",
   "execution_count": 3,
   "id": "a75b82b0",
   "metadata": {},
   "outputs": [
    {
     "name": "stdout",
     "output_type": "stream",
     "text": [
      "^C\n"
     ]
    }
   ],
   "source": [
    "#!pip install -U sentence-transformers"
   ]
  },
  {
   "cell_type": "code",
   "execution_count": 1,
   "id": "b254efa7",
   "metadata": {},
   "outputs": [],
   "source": [
    "# import numpy as np\n",
    "# import torch\n",
    "# import os\n",
    "# import pandas as pd\n",
    "# import faiss\n",
    "# import time\n",
    "# from sentence_transformers import SentenceTransformer\n",
    "import pandas as pd"
   ]
  },
  {
   "cell_type": "code",
   "execution_count": 2,
   "id": "bb592470",
   "metadata": {},
   "outputs": [],
   "source": [
    "df = pd.read_csv(\"flipkart_data.csv\")"
   ]
  },
  {
   "cell_type": "code",
   "execution_count": 3,
   "id": "5807e1c2",
   "metadata": {},
   "outputs": [
    {
     "data": {
      "text/plain": [
       "0               Clinic Plus Strong & Thick Health Shampoo\n",
       "1                        DOVE Deeply Nourishing Body Wash\n",
       "2        EMAMI Healthy & Tasty Refined Rice Bran Oil P...\n",
       "3                                 Tata Sampann Fine Besan\n",
       "4                   Colgate Vedshakti Mouth Protect Spray\n",
       "                              ...                        \n",
       "1004                     DOVE Deeply Nourishing Body Wash\n",
       "1005                Bingo Mad Angles Very Peri Peri Chips\n",
       "1006              DETTOL Refresh Body Wash and Shower Gel\n",
       "1007                           PARLE 20-20 Butter Cookies\n",
       "1008      Flipkart Supermart Home Essentials Dishwash Gel\n",
       "Name: name, Length: 1009, dtype: object"
      ]
     },
     "execution_count": 3,
     "metadata": {},
     "output_type": "execute_result"
    }
   ],
   "source": [
    "df.name"
   ]
  },
  {
   "cell_type": "code",
   "execution_count": 22,
   "id": "70cd7783",
   "metadata": {},
   "outputs": [
    {
     "name": "stdout",
     "output_type": "stream",
     "text": [
      "cookies\n"
     ]
    }
   ],
   "source": [
    "s = str(input()).lower()\n"
   ]
  },
  {
   "cell_type": "code",
   "execution_count": 23,
   "id": "bb4a811a",
   "metadata": {},
   "outputs": [],
   "source": [
    "n = 10"
   ]
  },
  {
   "cell_type": "code",
   "execution_count": 24,
   "id": "80e19c85",
   "metadata": {},
   "outputs": [
    {
     "name": "stdout",
     "output_type": "stream",
     "text": [
      " Priyagold Italiano Cookies with Crunchy Coconut\n",
      " UNIBIC Choco Ripple Cookies\n",
      " UNIBIC Fruit & Nut Cookies\n",
      " Priyagold Italiano Cookies with Smoothness of Butter\n",
      " Priyagold Italiano Cookies with Crunchy Chocochips\n",
      " BRITANNIA Good Day Cashew Cookies\n",
      " PARLE Hide & Seek Chocolate Chip Cookies\n",
      " UNIBIC Cashew Cookies\n",
      " Good Day Pista Badam Cookies\n",
      " PARLE Milano Mixed Berries Cookies\n"
     ]
    }
   ],
   "source": [
    "def pred():\n",
    "    temp = [x for x in df.name if s in x.lower()]\n",
    "    if temp==[] or len(temp)>n:\n",
    "        list1 = [x for x in range(len(df.name)) if len(set(s.split()).intersection(set(df.name[x].lower().split())))>0]\n",
    "        list2 = [len(set(s.split()).intersection(set(df.name[x].lower().split()))) for x in range(len(df.name)) if len(set(s.split()).intersection(set(df.name[x].lower().split())))>0]\n",
    "        df1 = pd.DataFrame([list1,list2]).T\n",
    "        df1.columns = ['train_index','match_count']\n",
    "        subset = df1.sort_values(by=['match_count'],ascending=False).reset_index(drop=True).iloc[0:n]\n",
    "        for k in subset.train_index:\n",
    "            print(df.name[k])\n",
    "    else:\n",
    "        for t in temp:\n",
    "            print(t)\n",
    "pred()"
   ]
  },
  {
   "cell_type": "code",
   "execution_count": 17,
   "id": "129e5221",
   "metadata": {},
   "outputs": [],
   "source": [
    "# for x in df.name:\n",
    "#     if s in x.lower():\n",
    "#         print(x)\n",
    "    "
   ]
  },
  {
   "cell_type": "code",
   "execution_count": 20,
   "id": "bb596c6f",
   "metadata": {},
   "outputs": [],
   "source": [
    "list1 = [x for x in range(len(df.name)) if len(set(s.split()).intersection(set(df.name[x].lower().split())))>0]\n",
    "list2 = [len(set(s.split()).intersection(set(df.name[x].lower().split()))) for x in range(len(df.name)) if len(set(s.split()).intersection(set(df.name[x].lower().split())))>0]"
   ]
  },
  {
   "cell_type": "code",
   "execution_count": 21,
   "id": "be89bbf0",
   "metadata": {},
   "outputs": [],
   "source": []
  },
  {
   "cell_type": "code",
   "execution_count": 2,
   "id": "dcdb8417",
   "metadata": {},
   "outputs": [],
   "source": [
    "# df1 = pd.DataFrame([list1,list2]).T\n",
    "# df1.columns = ['train_index','match_count']\n",
    "# subset = df1.sort_values(by=['match_count'],ascending=False).reset_index(drop=True).iloc[0:n]"
   ]
  },
  {
   "cell_type": "code",
   "execution_count": 3,
   "id": "4a1060cb",
   "metadata": {},
   "outputs": [],
   "source": [
    "# for k in subset.train_index:\n",
    "#     print(df.name[k])"
   ]
  },
  {
   "cell_type": "code",
   "execution_count": 4,
   "id": "2aaae3cb",
   "metadata": {},
   "outputs": [],
   "source": [
    "# for i in list2:\n",
    "#     print(df.name[i])"
   ]
  },
  {
   "cell_type": "code",
   "execution_count": null,
   "id": "31aa464a",
   "metadata": {},
   "outputs": [],
   "source": []
  },
  {
   "cell_type": "code",
   "execution_count": null,
   "id": "91ad4d46",
   "metadata": {},
   "outputs": [],
   "source": []
  },
  {
   "cell_type": "code",
   "execution_count": null,
   "id": "466c876b",
   "metadata": {},
   "outputs": [],
   "source": []
  }
 ],
 "metadata": {
  "kernelspec": {
   "display_name": "Python 3 (ipykernel)",
   "language": "python",
   "name": "python3"
  },
  "language_info": {
   "codemirror_mode": {
    "name": "ipython",
    "version": 3
   },
   "file_extension": ".py",
   "mimetype": "text/x-python",
   "name": "python",
   "nbconvert_exporter": "python",
   "pygments_lexer": "ipython3",
   "version": "3.9.7"
  }
 },
 "nbformat": 4,
 "nbformat_minor": 5
}
