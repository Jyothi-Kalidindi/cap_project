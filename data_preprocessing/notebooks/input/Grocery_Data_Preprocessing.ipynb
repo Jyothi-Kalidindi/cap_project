{
 "cells": [
  {
   "cell_type": "markdown",
   "id": "e8883b77",
   "metadata": {},
   "source": [
    "# Reading the data into python"
   ]
  },
  {
   "cell_type": "code",
   "execution_count": null,
   "id": "06421ae8",
   "metadata": {},
   "outputs": [],
   "source": [
    "# Supressing the warning messages\n",
    "import warnings\n",
    "warnings.filterwarnings('ignore')"
   ]
  },
  {
   "cell_type": "code",
   "execution_count": null,
   "id": "c90f469a",
   "metadata": {},
   "outputs": [],
   "source": [
    "# Reading the dataset\n",
    "import pandas as pd\n",
    "import numpy as np\n",
    "\n",
    "\n",
    "inventory_df = pd.read_csv(open(source_data))\n",
    "inventory_df.sample(5)"
   ]
  },
  {
   "cell_type": "code",
   "execution_count": null,
   "id": "2d338e75",
   "metadata": {},
   "outputs": [],
   "source": [
    "print('Shape before deleting duplicate values:', inventory_df.shape)\n",
    "\n",
    "# Removing duplicate rows if any\n",
    "inventory_df = inventory_df.drop_duplicates(['Brand Name','Product Name','Weight'])\n",
    "print('Shape After deleting duplicate values:', inventory_df.shape)\n",
    "\n",
    "# Printing sample data\n",
    "inventory_df.sample(5)"
   ]
  },
  {
   "cell_type": "markdown",
   "id": "b9f46529",
   "metadata": {},
   "source": [
    "# Defining the problem statement"
   ]
  },
  {
   "cell_type": "markdown",
   "id": "f3a8ddd9",
   "metadata": {},
   "source": [
    "#### Create a predictive model which gives relevant products recommendations\n",
    "\n",
    "Predictors: Category, Sub Category, Brand Name, Product Rating, Name"
   ]
  },
  {
   "cell_type": "markdown",
   "id": "b07433c8",
   "metadata": {},
   "source": [
    "# Basic Data Exploration"
   ]
  },
  {
   "cell_type": "code",
   "execution_count": null,
   "id": "4ff9b943",
   "metadata": {},
   "outputs": [],
   "source": [
    "# Looking at the sample rows in the data\n",
    "inventory_df.sample(5)"
   ]
  },
  {
   "cell_type": "code",
   "execution_count": null,
   "id": "1e5ee969",
   "metadata": {},
   "outputs": [],
   "source": [
    "# Observing the summarized information of data\n",
    "# Data types, Missing values based on number of non-null values Vs total rows etc.\n",
    "# Remove those variables from data which have too many missing values (Missing Values > 30%)\n",
    "# Remove Qualitative variables which cannot be used in Machine Learning\n",
    "inventory_df.info()"
   ]
  },
  {
   "cell_type": "code",
   "execution_count": null,
   "id": "6e16d49f",
   "metadata": {},
   "outputs": [],
   "source": [
    "# Looking at the descriptive statistics of the data\n",
    "inventory_df.describe(include='all')"
   ]
  },
  {
   "cell_type": "code",
   "execution_count": null,
   "id": "2b0b1d03",
   "metadata": {},
   "outputs": [],
   "source": [
    "# Finding unique values for each column\n",
    "# TO understand which column is categorical and which one is Continuous\n",
    "# Typically if the numer of unique values are < 20 then the variable is likely to be a category otherwise continuous\n",
    "inventory_df.nunique()"
   ]
  },
  {
   "cell_type": "markdown",
   "id": "7b919fa4",
   "metadata": {},
   "source": [
    "# Basic Data Exploration Results\n",
    "\n",
    "Based on the basic exploration above, we can create a simple report of the data, noting down the observations regaring each column. Hence, creating a initial roadmap for further analysis.\n",
    "\n",
    "The selected columns in this step are not final, further study will be done and then a final list will be created.\n",
    "\n",
    "- Category     : Selected. Categorical.\n",
    "- Sub Category : Selected. Categorical.\n",
    "- Brand Name   : Selected. Categorical.\n",
    "- Product Name: Selected. Categorical.\n",
    "- Name         : Selected. Categorical.\n",
    "- Weight       : Selected. Continuous.\n",
    "- MRP/Unit     : Selected. Continuous.\n",
    "- Qnty         : Selected. Continuous.\n",
    "- Unit Qnty    : Selected. Continuous.\n",
    "- Cost Price   : Selected. Continuous.\n",
    "- Product ID   : Selected. Continuous.\n",
    "- Product rating : Selected. Continuous."
   ]
  },
  {
   "cell_type": "markdown",
   "id": "f8059b49",
   "metadata": {},
   "source": [
    "# Visual Exploratory Data Analysis\n",
    "\n",
    "Categorical variables: Bar plot\n",
    "\n",
    "Continuous variables: Histogram"
   ]
  },
  {
   "cell_type": "markdown",
   "id": "9133d697",
   "metadata": {},
   "source": [
    "## Visualize distribution of all the Categorical Predictor variables in the data using bar plots\n",
    "We can spot a categorical variable in the data by looking at the unique values in them. Typically a categorical variable contains less than 20 Unique values AND there is repetition of values, which means the data can be grouped by those unique values."
   ]
  },
  {
   "cell_type": "code",
   "execution_count": null,
   "id": "85972f4b",
   "metadata": {},
   "outputs": [],
   "source": [
    "# Plotting multiple bar charts at once for categorical variables\n",
    "# Since there is no default function which can plot bar charts for multiple columns at once\n",
    "# we are defining our own function for the same\n",
    "\n",
    "def PlotBarCharts(inpData, colsToPlot):\n",
    "    %matplotlib inline\n",
    "    \n",
    "    import matplotlib.pyplot as plt\n",
    "    \n",
    "    # Generating multiple subplots\n",
    "    fig, subPlot=plt.subplots(nrows=1, ncols=len(colsToPlot), figsize=(50,5))\n",
    "    fig.suptitle('Bar charts of: '+ str(colsToPlot))\n",
    "\n",
    "    for colName, plotNumber in zip(colsToPlot, range(len(colsToPlot))):\n",
    "        inpData.groupby(colName).size().plot(kind='bar',ax=subPlot[plotNumber])"
   ]
  },
  {
   "cell_type": "code",
   "execution_count": null,
   "id": "7c4dc8a7",
   "metadata": {},
   "outputs": [],
   "source": [
    "#####################################################################\n",
    "# Calling the function for 5 columns\n",
    "PlotBarCharts(inpData=inventory_df, \n",
    "              colsToPlot=['Category', 'Sub Category'])"
   ]
  },
  {
   "cell_type": "code",
   "execution_count": null,
   "id": "aeae6a70",
   "metadata": {},
   "outputs": [],
   "source": [
    "#####################################################################\n",
    "# Calling the function for 5 columns\n",
    "PlotBarCharts(inpData=inventory_df, \n",
    "              colsToPlot=['Simplified Category', 'Brand Name'])"
   ]
  },
  {
   "cell_type": "markdown",
   "id": "20e1af62",
   "metadata": {},
   "source": [
    "# Bar Charts Interpretation\n",
    "These bar charts represent the frequencies of each category in the Y-axis and the category names in the X-axis.\n",
    "\n",
    "In this data, all the categorical columns except \"Brand Name\", \"Name\" and \"Product Name\" have satisfactory distribution for machine learning."
   ]
  },
  {
   "cell_type": "markdown",
   "id": "04849368",
   "metadata": {},
   "source": [
    "# Visualize distribution of all the Continuous Predictor variables in the data using histograms"
   ]
  },
  {
   "cell_type": "code",
   "execution_count": null,
   "id": "fe485297",
   "metadata": {},
   "outputs": [],
   "source": [
    "# Plotting histograms of multiple columns together\n",
    "\n",
    "inventory_df.hist(['MRP/Unit', 'Rating '], figsize=(10, 5))"
   ]
  },
  {
   "cell_type": "code",
   "execution_count": null,
   "id": "6f3ebb9b",
   "metadata": {},
   "outputs": [],
   "source": [
    "inventory_df.columns"
   ]
  },
  {
   "cell_type": "code",
   "execution_count": null,
   "id": "566993d5",
   "metadata": {},
   "outputs": [],
   "source": [
    "# Plotting histograms of multiple columns together\n",
    "\n",
    "inventory_df.hist(['Product ID '], figsize=(10,5))"
   ]
  },
  {
   "cell_type": "markdown",
   "id": "397c5a3c",
   "metadata": {},
   "source": [
    "# Histogram Interpretation\n",
    "Histograms shows us the data distribution for a single continuous variable.\n",
    "\n",
    "The ideal outcome for histogram is a bell curve or slightly skewed bell curve. If there is too much skewness, then outlier treatment should be done and the column should be re-examined, if that also does not solve the problem then only reject the column.\n",
    "\n",
    "Selected Continuous Variables:\n",
    "\n",
    "- MRP/Unit   : Selected. Slightly skewed distribution, acceptable.\n",
    "- Qnty       : Selected. Slightly skewed distribution, acceptable.\n",
    "- Unit Qnty  : Selected. Skewed distribution, not acceptable.\n",
    "- Cost Price : Selected. Slightly skewed distribution, acceptable.\n"
   ]
  },
  {
   "cell_type": "markdown",
   "id": "6ce2e01b-b0c4-4fd2-9311-4e28adff5515",
   "metadata": {},
   "source": [
    "# Database Connection"
   ]
  },
  {
   "cell_type": "code",
   "execution_count": null,
   "id": "b81f36eb-9212-4f84-9696-6afbad0b6b1f",
   "metadata": {},
   "outputs": [],
   "source": [
    "import sqlalchemy\n",
    "import json\n",
    "import os\n",
    "notebook_path = os.getcwd()\n",
    "con_path = os.path.join(notebook_path, \"connection.json\")\n",
    "with open(con_path, \"r\") as read_file:\n",
    "    con_j = json.load(read_file)\n",
    "    username=con_j['username']\n",
    "    password=con_j['password']\n",
    "    database=con_j['database']\n",
    "    server=con_j['server']\n",
    "    port=con_j['port']\n",
    "    engine = sqlalchemy.create_engine(\"mysql+pymysql://\"+username+\":\"+password+\"@\"+server+\":\"+port+\"/\"+database)"
   ]
  },
  {
   "cell_type": "markdown",
   "id": "a74f7766",
   "metadata": {},
   "source": [
    "# Outlier treatment\n",
    "Outliers are extreme values in the data which are far away from most of the values. You can see them as the tails in the histogram.\n",
    "\n",
    "Outlier must be treated one column at a time. As the treatment will be slightly different for each column.\n",
    "\n",
    "Why I should treat the outliers?\n",
    "\n",
    "Outliers bias the training of machine learning models. As the algorithm tries to fit the extreme value, it goes away from majority of the data.\n",
    "\n",
    "There are below two options to treat outliers in the data.\n",
    "\n",
    "- Option-1: Delete the outlier Records. Only if there are just few rows lost.\n",
    "- Option-2: Impute the outlier values with a logical business value\n",
    "\n",
    "In this data all the continuous variables have slightly skewed distribution, which is acceptable, hence no outlier treatment is required.\n",
    "\n",
    "\n"
   ]
  },
  {
   "cell_type": "markdown",
   "id": "20333f3b",
   "metadata": {},
   "source": [
    "1. Rating <0 and >5 \n",
    "2. simplfied category not in 'Groceries' ,'Fruits' ,'Dry Fruits'\n",
    "3. Length of productid >12\n",
    "4. MRP/Unit <0 and MRP/Unit>10000"
   ]
  },
  {
   "cell_type": "code",
   "execution_count": null,
   "id": "af1b6bc7",
   "metadata": {},
   "outputs": [],
   "source": [
    "def outlier_treatment(datacolumn):\n",
    "    sorted(datacolumn)\n",
    "    Q1,Q3 = np.percentile(datacolumn , [25,75])\n",
    "    IQR = Q3 - Q1\n",
    "    lower_range = Q1 - (1.5 * IQR)\n",
    "    upper_range = Q3 + (1.5 * IQR)\n",
    "    return lower_range,upper_range"
   ]
  },
  {
   "cell_type": "code",
   "execution_count": null,
   "id": "fc054fd4",
   "metadata": {},
   "outputs": [],
   "source": [
    "lowerbound,upperbound = outlier_treatment(inventory_df['Rating '])"
   ]
  },
  {
   "cell_type": "code",
   "execution_count": null,
   "id": "5dc5c13d",
   "metadata": {},
   "outputs": [],
   "source": [
    "# Records not within the boundary\n",
    "inventory_df[(inventory_df['Rating '] < lowerbound) | (inventory_df['Rating '] > upperbound)]"
   ]
  },
  {
   "cell_type": "code",
   "execution_count": null,
   "id": "72bf71ad",
   "metadata": {},
   "outputs": [],
   "source": [
    "error_records_df = inventory_df[(inventory_df['Rating '] < lowerbound) | (inventory_df['Rating '] > upperbound)]\n",
    "error_records_df.drop(['Sub Category'], axis=1, inplace=True)\n",
    "error_records_df.rename(columns = {'Category':'Sub_Category_Name', 'Simplified Category':'Category_Name','Product Name':'Product_Name', 'MRP/Unit':'Price','Product ID ':'productid', 'Image URL':'Image', 'Rating ':'Product_Rating', 'Brand Name':'Brand'}, inplace= True)\n",
    "error_records_df.to_csv(unprocessed_data, index=False)\n",
    "error_records_df.to_sql('UnprocessedData', con=engine, if_exists='append', index=False)"
   ]
  },
  {
   "cell_type": "code",
   "execution_count": null,
   "id": "246e92ea",
   "metadata": {},
   "outputs": [],
   "source": [
    "# simplfied category not in 'Groceries' ,'Fruits' ,'Dry Fruits'\n",
    "inventory_df[(inventory_df['Simplified Category'] != 'Groceries') & (inventory_df['Simplified Category'] != 'Fruits') & (inventory_df['Simplified Category'] != 'Dry Fruits')]"
   ]
  },
  {
   "cell_type": "code",
   "execution_count": null,
   "id": "8f1a0c60",
   "metadata": {},
   "outputs": [],
   "source": [
    "error_records_df =inventory_df[(inventory_df['Simplified Category'] != 'Groceries') & (inventory_df['Simplified Category'] != 'Fruits') & (inventory_df['Simplified Category'] != 'Dry Fruits')]\n",
    "error_records_df.drop(['Sub Category'], axis=1, inplace=True)\n",
    "error_records_df.rename(columns = {'Category':'Sub_Category_Name', 'Simplified Category':'Category_Name','Product Name':'Product_Name', 'MRP/Unit':'Price','Product ID ':'productid', 'Image URL':'Image', 'Rating ':'Product_Rating', 'Brand Name':'Brand'}, inplace= True)\n",
    "error_records_df.to_csv(unprocessed_data, mode='a', index=False, header=False)\n",
    "error_records_df.to_sql('UnprocessedData', con=engine, if_exists='append', index=False)"
   ]
  },
  {
   "cell_type": "code",
   "execution_count": null,
   "id": "f8d0f9ce",
   "metadata": {},
   "outputs": [],
   "source": [
    "# Length of productid > 12\n",
    "inventory_df[inventory_df['Product ID '].astype(str).str.len() > 12]"
   ]
  },
  {
   "cell_type": "code",
   "execution_count": null,
   "id": "4c5edfa9",
   "metadata": {},
   "outputs": [],
   "source": [
    "error_records_df = inventory_df[inventory_df['Product ID '].astype(str).str.len() > 12]\n",
    "error_records_df.drop(['Sub Category'], axis=1, inplace=True)\n",
    "error_records_df.rename(columns = {'Category':'Sub_Category_Name', 'Simplified Category':'Category_Name','Product Name':'Product_Name', 'MRP/Unit':'Price','Product ID ':'productid', 'Image URL':'Image', 'Rating ':'Product_Rating', 'Brand Name':'Brand'}, inplace= True)\n",
    "error_records_df.to_csv(unprocessed_data, mode='a', index=False, header=False)\n",
    "error_records_df.to_sql('UnprocessedData', con=engine, if_exists='append', index=False)"
   ]
  },
  {
   "cell_type": "code",
   "execution_count": null,
   "id": "d0c6d92b",
   "metadata": {},
   "outputs": [],
   "source": [
    "# MRP/Unit <0 and MRP/Unit>10000\n",
    "inventory_df[(inventory_df['MRP/Unit'] < 0) | (inventory_df['MRP/Unit'] > 10000)]"
   ]
  },
  {
   "cell_type": "code",
   "execution_count": null,
   "id": "2f07e86e",
   "metadata": {},
   "outputs": [],
   "source": [
    "error_records_df = inventory_df[(inventory_df['MRP/Unit'] < 0) | (inventory_df['MRP/Unit'] > 10000)]\n",
    "error_records_df.drop(['Sub Category'], axis=1, inplace=True)\n",
    "error_records_df.rename(columns = {'Category':'Sub_Category_Name', 'Simplified Category':'Category_Name','Product Name':'Product_Name', 'MRP/Unit':'Price','Product ID ':'productid', 'Image URL':'Image', 'Rating ':'Product_Rating', 'Brand Name':'Brand'}, inplace= True)\n",
    "error_records_df.to_csv(unprocessed_data, mode='a', index=False, header=False)\n",
    "error_records_df.to_sql('UnprocessedData', con=engine, if_exists='append', index=False)"
   ]
  },
  {
   "cell_type": "code",
   "execution_count": null,
   "id": "a6cd39e7",
   "metadata": {},
   "outputs": [],
   "source": [
    "# remove the outliers from the dataset\n",
    "\n",
    "inventory_df.drop(inventory_df[ (inventory_df['Rating '] > upperbound) | (inventory_df['Rating '] < lowerbound) ].index , inplace=True)\n",
    "\n",
    "inventory_df.drop(inventory_df[(inventory_df['Simplified Category'] != 'Groceries') & (inventory_df['Simplified Category'] != 'Fruits') & (inventory_df['Simplified Category'] != 'Dry Fruits')].index, inplace=True)\n",
    "\n",
    "inventory_df.drop(inventory_df[inventory_df['Product ID '].astype(str).str.len() > 12].index, inplace=True)\n",
    "\n",
    "inventory_df.drop(inventory_df[(inventory_df['MRP/Unit'] < 0) | (inventory_df['MRP/Unit'] > 10000)].index, inplace=True)\n"
   ]
  },
  {
   "cell_type": "markdown",
   "id": "0a75d447",
   "metadata": {},
   "source": [
    "# Missing values treatment\n",
    "Missing values are treated for each column separately.\n",
    "\n",
    "If a column has more than 30% data missing, then missing value treatment cannot be done. That column must be rejected because too much information is missing.\n",
    "\n",
    "There are below options for treating missing values in data.\n",
    "\n",
    "- Delete the missing value rows if there are only few records\n",
    "- Impute the missing values with MEDIAN value for continuous variables\n",
    "- Impute the missing values with MODE value for categorical variables\n",
    "- Interpolate the values based on nearby values\n",
    "- Interpolate the values based on business logic"
   ]
  },
  {
   "cell_type": "code",
   "execution_count": null,
   "id": "291ecafd",
   "metadata": {},
   "outputs": [],
   "source": [
    "# Finding how many missing values are there for each column\n",
    "inventory_df.isnull().sum()"
   ]
  },
  {
   "cell_type": "code",
   "execution_count": null,
   "id": "2dfbf1bf",
   "metadata": {},
   "outputs": [],
   "source": [
    "error_records_df = inventory_df[inventory_df.isnull().any(axis=1)]\n",
    "error_records_df.drop(['Sub Category'], axis=1, inplace=True)\n",
    "error_records_df.rename(columns = {'Category':'Sub_Category_Name', 'Simplified Category':'Category_Name','Product Name':'Product_Name', 'MRP/Unit':'Price','Product ID ':'productid', 'Image URL':'Image', 'Rating ':'Product_Rating', 'Brand Name':'Brand'}, inplace= True)\n",
    "error_records_df.to_csv(unprocessed_data, mode='a', index=False, header=False)\n",
    "error_records_df.to_sql('UnprocessedData', con=engine, if_exists='append', index=False)\n",
    "error_records_df"
   ]
  },
  {
   "cell_type": "code",
   "execution_count": null,
   "id": "cff89245",
   "metadata": {},
   "outputs": [],
   "source": [
    "inventory_df.replace('', np.nan, inplace=True)"
   ]
  },
  {
   "cell_type": "code",
   "execution_count": null,
   "id": "275f3122",
   "metadata": {},
   "outputs": [],
   "source": [
    "inventory_df.dropna(inplace=True)\n",
    "\n",
    "# Finding how many missing values are there for each column\n",
    "inventory_df.isnull().sum()"
   ]
  },
  {
   "cell_type": "markdown",
   "id": "ae17ea3b",
   "metadata": {},
   "source": [
    "All the missing values are removed now."
   ]
  },
  {
   "cell_type": "markdown",
   "id": "447c2dea",
   "metadata": {},
   "source": [
    "# Data Cleansing"
   ]
  },
  {
   "cell_type": "code",
   "execution_count": null,
   "id": "27be3585",
   "metadata": {},
   "outputs": [],
   "source": [
    "# Removing the leading and trailing spaces of columns\n",
    "inventory_df.columns = inventory_df.columns.str.strip()"
   ]
  },
  {
   "cell_type": "code",
   "execution_count": null,
   "id": "6d627f1d",
   "metadata": {},
   "outputs": [],
   "source": [
    "inventory_df.columns"
   ]
  },
  {
   "cell_type": "markdown",
   "id": "72d352c2",
   "metadata": {},
   "source": [
    "# Find Correalation between attributes"
   ]
  },
  {
   "cell_type": "code",
   "execution_count": null,
   "id": "d554982b",
   "metadata": {},
   "outputs": [],
   "source": [
    "# To find the correlation among\n",
    "# the columns using pearson method\n",
    "inventory_df.corr(method ='pearson')"
   ]
  },
  {
   "cell_type": "markdown",
   "id": "bfbfd4f4",
   "metadata": {},
   "source": [
    "# Save the file into local machine"
   ]
  },
  {
   "cell_type": "code",
   "execution_count": null,
   "id": "f44d4e2f-3fe9-4b17-aa7a-e601fdbd16e0",
   "metadata": {},
   "outputs": [],
   "source": [
    "inventory_df.drop(['Sub Category'], axis=1, inplace=True)"
   ]
  },
  {
   "cell_type": "code",
   "execution_count": null,
   "id": "5ed60c79-6191-4b94-9c53-90fe7fa42fec",
   "metadata": {},
   "outputs": [],
   "source": [
    "inventory_df.rename(columns = {'Category':'Sub_Category_Name', 'Simplified Category':'Category_Name','Product Name':'Product_Name', 'MRP/Unit':'Price','Product ID':'productid', 'Image URL':'Image', 'Rating':'Product_Rating', 'Brand Name':'Brand'}, inplace= True)"
   ]
  },
  {
   "cell_type": "code",
   "execution_count": null,
   "id": "e2a7deef",
   "metadata": {},
   "outputs": [],
   "source": [
    "inventory_df.to_csv(preprocessed_data, index=False)"
   ]
  },
  {
   "cell_type": "markdown",
   "id": "1c41b58a-71cb-4ab4-8dd1-b8727aba9b88",
   "metadata": {},
   "source": [
    "# Save the data into local database"
   ]
  },
  {
   "cell_type": "code",
   "execution_count": null,
   "id": "f5f0ee0c-30ef-4b21-8ce7-f74e3e716b70",
   "metadata": {},
   "outputs": [],
   "source": [
    "inventory_df.to_sql('PreprocessedData', con=engine, if_exists='replace', index=False)"
   ]
  }
 ],
 "metadata": {
  "kernelspec": {
   "display_name": "Python 3 (ipykernel)",
   "language": "python",
   "name": "python3"
  },
  "language_info": {
   "codemirror_mode": {
    "name": "ipython",
    "version": 3
   },
   "file_extension": ".py",
   "mimetype": "text/x-python",
   "name": "python",
   "nbconvert_exporter": "python",
   "pygments_lexer": "ipython3",
   "version": "3.10.2"
  }
 },
 "nbformat": 4,
 "nbformat_minor": 5
}
