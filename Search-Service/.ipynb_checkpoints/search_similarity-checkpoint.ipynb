{
 "cells": [
  {
   "cell_type": "code",
   "execution_count": null,
   "id": "ea5a0400",
   "metadata": {},
   "outputs": [],
   "source": []
  },
  {
   "cell_type": "code",
   "execution_count": null,
   "id": "b0a79f9f",
   "metadata": {},
   "outputs": [],
   "source": []
  },
  {
   "cell_type": "code",
   "execution_count": 2,
   "id": "b3765973",
   "metadata": {},
   "outputs": [
    {
     "name": "stdout",
     "output_type": "stream",
     "text": [
      "Requirement already satisfied: faiss-cpu in c:\\programdata\\anaconda3\\lib\\site-packages (1.7.2)\n"
     ]
    }
   ],
   "source": [
    "!pip install faiss-cpu\n",
    "#!pip install -U sentence-transformers"
   ]
  },
  {
   "cell_type": "code",
   "execution_count": 3,
   "id": "cdee83ad",
   "metadata": {},
   "outputs": [
    {
     "name": "stdout",
     "output_type": "stream",
     "text": [
      "^C\n"
     ]
    }
   ],
   "source": [
    "!pip install -U sentence-transformers"
   ]
  },
  {
   "cell_type": "code",
   "execution_count": 4,
   "id": "2e962155",
   "metadata": {},
   "outputs": [],
   "source": [
    "# import numpy as np\n",
    "# import torch\n",
    "# import os\n",
    "# import pandas as pd\n",
    "# import faiss\n",
    "# import time\n",
    "# from sentence_transformers import SentenceTransformer\n",
    "\n",
    "import pandas as pd"
   ]
  },
  {
   "cell_type": "code",
   "execution_count": 5,
   "id": "8199f4ca",
   "metadata": {},
   "outputs": [],
   "source": [
    "df = pd.read_csv(\"flipkart_data.csv\")"
   ]
  },
  {
   "cell_type": "code",
   "execution_count": 6,
   "id": "daf0f7f6",
   "metadata": {},
   "outputs": [
    {
     "data": {
      "text/plain": [
       "0               Clinic Plus Strong & Thick Health Shampoo\n",
       "1                        DOVE Deeply Nourishing Body Wash\n",
       "2        EMAMI Healthy & Tasty Refined Rice Bran Oil P...\n",
       "3                                 Tata Sampann Fine Besan\n",
       "4                   Colgate Vedshakti Mouth Protect Spray\n",
       "                              ...                        \n",
       "1004                     DOVE Deeply Nourishing Body Wash\n",
       "1005                Bingo Mad Angles Very Peri Peri Chips\n",
       "1006              DETTOL Refresh Body Wash and Shower Gel\n",
       "1007                           PARLE 20-20 Butter Cookies\n",
       "1008      Flipkart Supermart Home Essentials Dishwash Gel\n",
       "Name: name, Length: 1009, dtype: object"
      ]
     },
     "execution_count": 6,
     "metadata": {},
     "output_type": "execute_result"
    }
   ],
   "source": [
    "df.name"
   ]
  },
  {
   "cell_type": "code",
   "execution_count": 35,
   "id": "5766eee6",
   "metadata": {},
   "outputs": [
    {
     "name": "stdout",
     "output_type": "stream",
     "text": [
      "Nourishing Body Wash\n"
     ]
    }
   ],
   "source": [
    "s = str(input()).lower()\n"
   ]
  },
  {
   "cell_type": "code",
   "execution_count": 38,
   "id": "7fb4ad1f",
   "metadata": {},
   "outputs": [],
   "source": [
    "n = 15"
   ]
  },
  {
   "cell_type": "code",
   "execution_count": 39,
   "id": "befd2dce",
   "metadata": {},
   "outputs": [
    {
     "name": "stdout",
     "output_type": "stream",
     "text": [
      " DOVE Deeply Nourishing Body Wash\n",
      " DOVE Deeply Nourishing Body Wash\n",
      " DOVE Deeply Nourishing Body Wash\n",
      " DOVE Deeply Nourishing Body Wash\n",
      " DOVE Deeply Nourishing Body Wash\n",
      " DOVE Deeply Nourishing Body Wash\n",
      " DOVE Deeply Nourishing Body Wash\n",
      " DOVE Deeply Nourishing Body Wash\n",
      " DOVE Deeply Nourishing Body Wash\n",
      " DOVE Deeply Nourishing Body Wash\n",
      " DOVE Deeply Nourishing Body Wash\n",
      " DOVE Deeply Nourishing Body Wash\n",
      " DETTOL Refresh Body Wash and Shower Gel\n",
      " NIVEA Body Wash\n",
      " DETTOL Cool Body Wash and Shower Gel\n"
     ]
    }
   ],
   "source": [
    "temp = [x for x in df.name if s in x.lower()]\n",
    "if temp==[] or len(temp)<n:\n",
    "    list1 = [x for x in range(len(df.name)) if len(set(s.split()).intersection(set(df.name[x].lower().split())))>0]\n",
    "    list2 = [len(set(s.split()).intersection(set(df.name[x].lower().split()))) for x in range(len(df.name)) if len(set(s.split()).intersection(set(df.name[x].lower().split())))>0]\n",
    "    df1 = pd.DataFrame([list1,list2]).T\n",
    "    df1.columns = ['train_index','match_count']\n",
    "    subset = df1.sort_values(by=['match_count'],ascending=False).reset_index(drop=True).iloc[0:n]\n",
    "    for k in subset.train_index:\n",
    "        print(df.name[k])\n",
    "else:\n",
    "    for t in temp:\n",
    "        print(t)"
   ]
  },
  {
   "cell_type": "code",
   "execution_count": 19,
   "id": "733e7830",
   "metadata": {},
   "outputs": [
    {
     "name": "stdout",
     "output_type": "stream",
     "text": [
      " DOVE Deeply Nourishing Body Wash\n",
      " DOVE Deeply Nourishing Body Wash\n",
      " DOVE Deeply Nourishing Body Wash\n",
      " DOVE Deeply Nourishing Body Wash\n",
      " DOVE Deeply Nourishing Body Wash\n",
      " DOVE Deeply Nourishing Body Wash\n",
      " DOVE Deeply Nourishing Body Wash\n",
      " DOVE Deeply Nourishing Body Wash\n",
      " DOVE Deeply Nourishing Body Wash\n",
      " DETTOL Cool Body Wash and Shower Gel\n",
      " DOVE Deeply Nourishing Body Wash\n",
      " NIVEA Body Wash\n",
      " DOVE Deeply Nourishing Body Wash\n",
      " DOVE Deeply Nourishing Body Wash\n",
      " DETTOL Refresh Body Wash and Shower Gel\n"
     ]
    }
   ],
   "source": [
    "for x in df.name:\n",
    "    if s in x.lower():\n",
    "        print(x)\n",
    "    "
   ]
  },
  {
   "cell_type": "code",
   "execution_count": 20,
   "id": "9714d9ef",
   "metadata": {},
   "outputs": [],
   "source": [
    "list1 = [x for x in range(len(df.name)) if len(set(s.split()).intersection(set(df.name[x].lower().split())))>0]\n",
    "list2 = [len(set(s.split()).intersection(set(df.name[x].lower().split()))) for x in range(len(df.name)) if len(set(s.split()).intersection(set(df.name[x].lower().split())))>0]"
   ]
  },
  {
   "cell_type": "code",
   "execution_count": 21,
   "id": "5df81ad5",
   "metadata": {},
   "outputs": [],
   "source": [
    "n=15"
   ]
  },
  {
   "cell_type": "code",
   "execution_count": 22,
   "id": "608b3c92",
   "metadata": {},
   "outputs": [],
   "source": [
    "df1 = pd.DataFrame([list1,list2]).T\n",
    "df1.columns = ['train_index','match_count']\n",
    "subset = df1.sort_values(by=['match_count'],ascending=False).reset_index(drop=True).iloc[0:n]"
   ]
  },
  {
   "cell_type": "code",
   "execution_count": 23,
   "id": "0b1b848e",
   "metadata": {},
   "outputs": [
    {
     "name": "stdout",
     "output_type": "stream",
     "text": [
      " DOVE Deeply Nourishing Body Wash\n",
      " DOVE Deeply Nourishing Body Wash\n",
      " DOVE Deeply Nourishing Body Wash\n",
      " DOVE Deeply Nourishing Body Wash\n",
      " NIVEA Body Wash\n",
      " DOVE Deeply Nourishing Body Wash\n",
      " DETTOL Cool Body Wash and Shower Gel\n",
      " DOVE Deeply Nourishing Body Wash\n",
      " DOVE Deeply Nourishing Body Wash\n",
      " DOVE Deeply Nourishing Body Wash\n",
      " DOVE Deeply Nourishing Body Wash\n",
      " DOVE Deeply Nourishing Body Wash\n",
      " DETTOL Refresh Body Wash and Shower Gel\n",
      " DOVE Deeply Nourishing Body Wash\n",
      " DOVE Deeply Nourishing Body Wash\n"
     ]
    }
   ],
   "source": [
    "for k in subset.train_index:\n",
    "    print(df.name[k])"
   ]
  },
  {
   "cell_type": "code",
   "execution_count": 25,
   "id": "3c44b6b0",
   "metadata": {},
   "outputs": [
    {
     "name": "stdout",
     "output_type": "stream",
     "text": [
      " EMAMI Healthy & Tasty Refined Rice Bran Oil Pouch\n",
      " DOVE Deeply Nourishing Body Wash\n",
      " DOVE Deeply Nourishing Body Wash\n",
      " DOVE Deeply Nourishing Body Wash\n",
      " EMAMI Healthy & Tasty Refined Rice Bran Oil Pouch\n",
      " DOVE Deeply Nourishing Body Wash\n",
      " DOVE Deeply Nourishing Body Wash\n",
      " DOVE Deeply Nourishing Body Wash\n",
      " DOVE Deeply Nourishing Body Wash\n",
      " DOVE Deeply Nourishing Body Wash\n",
      " DOVE Deeply Nourishing Body Wash\n",
      " DOVE Deeply Nourishing Body Wash\n",
      " EMAMI Healthy & Tasty Refined Rice Bran Oil Pouch\n",
      " DOVE Deeply Nourishing Body Wash\n",
      " DOVE Deeply Nourishing Body Wash\n",
      " DOVE Deeply Nourishing Body Wash\n",
      " DOVE Deeply Nourishing Body Wash\n",
      " EMAMI Healthy & Tasty Refined Rice Bran Oil Pouch\n",
      " DOVE Deeply Nourishing Body Wash\n",
      " DOVE Deeply Nourishing Body Wash\n",
      " EMAMI Healthy & Tasty Refined Rice Bran Oil Pouch\n",
      " DOVE Deeply Nourishing Body Wash\n",
      " EMAMI Healthy & Tasty Refined Rice Bran Oil Pouch\n",
      " EMAMI Healthy & Tasty Refined Rice Bran Oil Pouch\n",
      " DOVE Deeply Nourishing Body Wash\n",
      " EMAMI Healthy & Tasty Refined Rice Bran Oil Pouch\n",
      " DOVE Deeply Nourishing Body Wash\n",
      " DOVE Deeply Nourishing Body Wash\n",
      " DOVE Deeply Nourishing Body Wash\n",
      " DOVE Deeply Nourishing Body Wash\n",
      " EMAMI Healthy & Tasty Refined Rice Bran Oil Pouch\n",
      " DOVE Deeply Nourishing Body Wash\n",
      " EMAMI Healthy & Tasty Refined Rice Bran Oil Pouch\n",
      " DOVE Deeply Nourishing Body Wash\n",
      " DOVE Deeply Nourishing Body Wash\n",
      " EMAMI Healthy & Tasty Refined Rice Bran Oil Pouch\n",
      " EMAMI Healthy & Tasty Refined Rice Bran Oil Pouch\n",
      " EMAMI Healthy & Tasty Refined Rice Bran Oil Pouch\n",
      " DOVE Deeply Nourishing Body Wash\n",
      " DOVE Deeply Nourishing Body Wash\n",
      " EMAMI Healthy & Tasty Refined Rice Bran Oil Pouch\n",
      " EMAMI Healthy & Tasty Refined Rice Bran Oil Pouch\n"
     ]
    }
   ],
   "source": [
    "for i in list2:\n",
    "    print(df.name[i])"
   ]
  },
  {
   "cell_type": "code",
   "execution_count": null,
   "id": "3740d616",
   "metadata": {},
   "outputs": [],
   "source": []
  },
  {
   "cell_type": "code",
   "execution_count": null,
   "id": "92c5756f",
   "metadata": {},
   "outputs": [],
   "source": []
  },
  {
   "cell_type": "code",
   "execution_count": null,
   "id": "dbdb9454",
   "metadata": {},
   "outputs": [],
   "source": []
  }
 ],
 "metadata": {
  "kernelspec": {
   "display_name": "Python 3 (ipykernel)",
   "language": "python",
   "name": "python3"
  },
  "language_info": {
   "codemirror_mode": {
    "name": "ipython",
    "version": 3
   },
   "file_extension": ".py",
   "mimetype": "text/x-python",
   "name": "python",
   "nbconvert_exporter": "python",
   "pygments_lexer": "ipython3",
   "version": "3.9.7"
  }
 },
 "nbformat": 4,
 "nbformat_minor": 5
}
